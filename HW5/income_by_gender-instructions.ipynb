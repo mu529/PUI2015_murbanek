{
 "cells": [
  {
   "cell_type": "code",
   "execution_count": 4,
   "metadata": {
    "collapsed": false
   },
   "outputs": [
    {
     "name": "stdout",
     "output_type": "stream",
     "text": [
      "Populating the interactive namespace from numpy and matplotlib\n"
     ]
    },
    {
     "name": "stderr",
     "output_type": "stream",
     "text": [
      "C:\\Anaconda3\\lib\\site-packages\\matplotlib\\__init__.py:855: UserWarning: svg.embed_char_paths is deprecated and replaced with svg.fonttype; please use the latter.\n",
      "  warnings.warn(self.msg_depr % (key, alt_key))\n"
     ]
    }
   ],
   "source": [
    "import pandas as pd\n",
    "import sys\n",
    "import os\n",
    "import numpy \n",
    "import pylab as pl\n",
    "from pandas.tools.plotting import scatter_matrix\n",
    "\n",
    "import json\n",
    "import os\n",
    "s = json.load( open(os.getenv('PUI2015')+\"/fbb_matplotlibrc.json\") )\n",
    "pl.rcParams.update(s)\n",
    "\n",
    "\n",
    "\n",
    "%pylab inline"
   ]
  },
  {
   "cell_type": "code",
   "execution_count": 5,
   "metadata": {
    "collapsed": false,
    "scrolled": false
   },
   "outputs": [],
   "source": [
    "allmales={}\n",
    "allfemales={}\n",
    "allmales['all']=pd.read_excel(os.getenv('PUI2015')+'/data/pinc08_2_1_1.xls',header=9)\n",
    "allmales['white']=pd.read_excel(os.getenv('PUI2015')+'/data/pinc08_2_1_4.xls', header=9)\n",
    "allmales['black']=pd.read_excel(os.getenv('PUI2015')+'/data/pinc08_2_1_6.xls', header=9)\n",
    "allmales['hispanic']=pd.read_excel(os.getenv('PUI2015')+'/data/pinc08_2_1_9.xls', header=9)\n",
    "allmales['asian']=pd.read_excel(os.getenv('PUI2015')+'/data/pinc08_2_1_8.xls', header=9)\n",
    "allfemales['all']=pd.read_excel(os.getenv('PUI2015')+'/data/pinc08_3_1_1.xls', header=9)\n",
    "allfemales['white']=pd.read_excel(os.getenv('PUI2015')+'/data/pinc08_3_1_4.xls', header=9)\n",
    "allfemales['black']=pd.read_excel(os.getenv('PUI2015')+'/data/pinc08_3_1_6.xls', header=9)\n",
    "allfemales['hispanic']=pd.read_excel(os.getenv('PUI2015')+'/data/pinc08_3_1_9.xls', header=9)\n",
    "allfemales['asian']=pd.read_excel(os.getenv('PUI2015')+'/data/pinc08_3_1_8.xls', header=9)"
   ]
  },
  {
   "cell_type": "markdown",
   "metadata": {},
   "source": [
    "##exploratory phase"
   ]
  },
  {
   "cell_type": "code",
   "execution_count": 6,
   "metadata": {
    "collapsed": false
   },
   "outputs": [
    {
     "name": "stderr",
     "output_type": "stream",
     "text": [
      "C:\\Anaconda3\\lib\\site-packages\\ipykernel\\__main__.py:10: SettingWithCopyWarning: \n",
      "A value is trying to be set on a copy of a slice from a DataFrame\n",
      "\n",
      "See the the caveats in the documentation: http://pandas.pydata.org/pandas-docs/stable/indexing.html#indexing-view-versus-copy\n"
     ]
    }
   ],
   "source": [
    "#Another way to remove non real entries, is to use the np.isreal command, \n",
    "#i end up doing it in a for loop, which is ugly.\n",
    "#think about how you could improve on that if you already have coding experience\n",
    "#and are used to pythonic ways!\n",
    "\n",
    "for k in allmales:\n",
    "    nonreal  = allmales[k].applymap(np.isreal)\n",
    "    for c in allmales[k].columns :\n",
    "        if nonreal.sum()[c]>1 and nonreal.sum()[c]<49:\n",
    "            allmales[k][c][~nonreal[c]] = np.float('NaN')\n",
    "            allmales[k][c] = allmales[k][c].astype(float)\n",
    "\n",
    "    "
   ]
  },
  {
   "cell_type": "code",
   "execution_count": 7,
   "metadata": {
    "collapsed": false
   },
   "outputs": [
    {
     "name": "stderr",
     "output_type": "stream",
     "text": [
      "C:\\Anaconda3\\lib\\site-packages\\ipykernel\\__main__.py:6: SettingWithCopyWarning: \n",
      "A value is trying to be set on a copy of a slice from a DataFrame\n",
      "\n",
      "See the the caveats in the documentation: http://pandas.pydata.org/pandas-docs/stable/indexing.html#indexing-view-versus-copy\n"
     ]
    }
   ],
   "source": [
    "#do the same for females\n",
    "for k in allfemales:\n",
    "    nonreal  = allfemales[k].applymap(np.isreal)\n",
    "    for c in allfemales[k].columns :\n",
    "        if nonreal.sum()[c]>1 and nonreal.sum()[c]<49:\n",
    "            allfemales[k][c][~nonreal[c]] = np.float('NaN')\n",
    "            allfemales[k][c] = allfemales[k][c].astype(float)\n"
   ]
  },
  {
   "cell_type": "markdown",
   "metadata": {},
   "source": [
    "##to see how the male and female income relate to each other plot the Total Median Income (from any source of revenue) of females vs the Total Median Income of males by race (one data point per race)\n",
    "\n",
    "##also plot the 1-1 line: the diagonal that corresponds to men and women getting the same pay\n",
    "(make the plot and describe it in a \"caption\" in the cell below the plot)"
   ]
  },
  {
   "cell_type": "code",
   "execution_count": 8,
   "metadata": {
    "collapsed": false
   },
   "outputs": [
    {
     "name": "stdout",
     "output_type": "stream",
     "text": [
      "[30686.0, 45950.0, 27017.0, 40298.0, 45554.0]\n",
      "[26165.0, 31802.0, 21411.0, 28402.0, 30919.0]\n"
     ]
    }
   ],
   "source": [
    "m = []\n",
    "for k in allmales.keys():\n",
    "    m.append(allmales[k]['Median income'][3])\n",
    "\n",
    "f = []\n",
    "for k in allfemales.keys():\n",
    "    f.append(allfemales[k]['Median income'][3])\n",
    "\n",
    "print (m)\n",
    "print (f)\n",
    "\n",
    "##pl.scatter[...]"
   ]
  },
  {
   "cell_type": "markdown",
   "metadata": {},
   "source": [
    "#Now fit it with a line!\n",
    "you can use statsmodels, or scipy, numpy, or create your own residual minimization function. \n",
    "if you want to use numpy (and you do not have to!) you can for example use \n",
    "\n",
    "\n",
    "pl.plot(newx,np.poly1d(np.ployfit(x,y,1))(newx)\n",
    "\n",
    "to make and plot the fit in one line (although this way you did not save the parameters so you need to rerun the function to get the slope and intercept ... :-/\n",
    "\n",
    "why not challenge yourself (if you want) and  create your own residual minimization function you can minimize it with scipy instead of a nested for loop (which is called 'brute force minimization')\n",
    "\n",
    "from scipy.optimize import minimize\n",
    "\n",
    "def line ().....\n",
    "    #this would be a function that creates a line given parameters, like we did in class\n",
    "    ...\n",
    "    return y\n",
    "def residuals(data, model, error=None):\n",
    "    #you can add errors if you want\n",
    "    you want to return the sum of the residuals (difference b/w data and model **2)\n",
    "    return residuals\n",
    "\n",
    "you need an initial guess for the parameters, where you start searching. it has to be a single variable, so for 2 parameters make a list of 2 elements. the numbers inside do not have to be 0 and 1 - but choose something not too crazy or your minimization will get lost!\n",
    "\n",
    "p0 = [0,1] \n",
    "\n",
    "result = minimize(residuals, p0, args=(all_males, all_females))\n",
    "\n",
    "in args i put all arguments of the function residuals that are not to be evaluated for the minimization (in this case the data)"
   ]
  },
  {
   "cell_type": "code",
   "execution_count": 9,
   "metadata": {
    "collapsed": false
   },
   "outputs": [
    {
     "data": {
      "text/plain": [
       "<matplotlib.text.Text at 0x8ecc0b8>"
      ]
     },
     "execution_count": 9,
     "metadata": {},
     "output_type": "execute_result"
    },
    {
     "data": {
      "image/png": "[encoded data removed]",
      "text/plain": [
       "<matplotlib.figure.Figure at 0x8a72898>"
      ]
     },
     "metadata": {},
     "output_type": "display_data"
    }
   ],
   "source": [
    "#fit and plot here\n",
    "import matplotlib.pyplot as plt\n",
    "%matplotlib inline\n",
    "\n",
    "plt.figure(figsize = (10,8))\n",
    "plt.plot(m, f, 'o')\n",
    "plt.plot((0,50000), (0,50000), '-')\n",
    "plt.xlim(20000, 50000)\n",
    "plt.ylim(20000, 50000)\n",
    "plt.xlabel('male', fontsize = 16)\n",
    "plt.ylabel('female', fontsize = 16)\n",
    "plt.title(r'Median income', fontsize = 20)"
   ]
  },
  {
   "cell_type": "markdown",
   "metadata": {},
   "source": [
    "##and plot the line corresponding to the analytical regression to compare it with the result of your numerical one"
   ]
  },
  {
   "cell_type": "code",
   "execution_count": 10,
   "metadata": {
    "collapsed": false
   },
   "outputs": [
    {
     "data": {
      "text/plain": [
       "<matplotlib.text.Text at 0xb69cc88>"
      ]
     },
     "execution_count": 10,
     "metadata": {},
     "output_type": "execute_result"
    },
    {
     "data": {
      "image/png": "[encoded data removed]",
      "text/plain": [
       "<matplotlib.figure.Figure at 0x8f67e10>"
      ]
     },
     "metadata": {},
     "output_type": "display_data"
    }
   ],
   "source": [
    "import statsmodels.api as sm\n",
    "\n",
    "M = sm.add_constant(m)\n",
    "\n",
    "plt.figure(figsize = (10,8))\n",
    "plt.plot(m, f, 'o')\n",
    "plt.plot((0,50000), (0,50000), '-')\n",
    "plt.xlim(20000, 50000)\n",
    "plt.ylim(20000, 50000)\n",
    "plt.xlabel('male', fontsize = 16)\n",
    "plt.ylabel('female', fontsize = 16)\n",
    "plt.title(r'Median income', fontsize = 20)"
   ]
  }
 ],
 "metadata": {
  "kernelspec": {
   "display_name": "Python 3",
   "language": "python",
   "name": "python3"
  },
  "language_info": {
   "codemirror_mode": {
    "name": "ipython",
    "version": 3
   },
   "file_extension": ".py",
   "mimetype": "text/x-python",
   "name": "python",
   "nbconvert_exporter": "python",
   "pygments_lexer": "ipython3",
   "version": "3.4.3"
  }
 },
 "nbformat": 4,
 "nbformat_minor": 0
}
